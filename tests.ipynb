{
 "cells": [
  {
   "cell_type": "code",
   "execution_count": 14,
   "id": "ab2f8556",
   "metadata": {},
   "outputs": [],
   "source": [
    "import itk\n",
    "import numpy as np\n",
    "from PIL import Image\n",
    "\n",
    "\n",
    "for i in range(2, 9):\n",
    "  fixed_image = itk.imread('fingerprints/1_1.png', itk.F)\n",
    "  moving_image = itk.imread(f'fingerprints/1_{i}.png', itk.F)\n",
    "\n",
    "  parameter_object = itk.ParameterObject.New()\n",
    "  default_rigid_parameter_map = parameter_object.GetDefaultParameterMap('rigid')\n",
    "  parameter_object.AddParameterMap(default_rigid_parameter_map)\n",
    "\n",
    "  # Call registration function\n",
    "  result_image, result_transform_parameters = itk.elastix_registration_method(\n",
    "      fixed_image, moving_image,\n",
    "      parameter_object=parameter_object,\n",
    "      log_to_console=False)\n",
    "\n",
    "  result_array = itk.GetArrayFromImage(result_image)\n",
    "  result_int = ((result_array - result_array.min()) / (result_array.max() - result_array.min()) * 255).astype(np.uint8)\n",
    "\n",
    "  result = Image.fromarray(result_int)\n",
    "  result.save(f\"{i}.png\")"
   ]
  }
 ],
 "metadata": {
  "kernelspec": {
   "display_name": ".venv",
   "language": "python",
   "name": "python3"
  },
  "language_info": {
   "codemirror_mode": {
    "name": "ipython",
    "version": 3
   },
   "file_extension": ".py",
   "mimetype": "text/x-python",
   "name": "python",
   "nbconvert_exporter": "python",
   "pygments_lexer": "ipython3",
   "version": "3.12.1"
  }
 },
 "nbformat": 4,
 "nbformat_minor": 5
}
